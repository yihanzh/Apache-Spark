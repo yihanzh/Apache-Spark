{
 "cells": [
  {
   "cell_type": "code",
   "execution_count": 1,
   "metadata": {},
   "outputs": [],
   "source": [
    "from IPython.display import Markdown, display\n",
    "def printmd(string):\n",
    "    display(Markdown('# <span style=\"color:red\">'+string+'</span>'))\n",
    "\n",
    "\n",
    "if ('sc' in locals() or 'sc' in globals()):\n",
    "    printmd('<<<<<!!!!! It seems that you are running in a IBM Watson Studio Apache Spark Notebook. Please run it in an IBM Watson Studio Default Runtime (without Apache Spark) !!!!!>>>>>')\n"
   ]
  },
  {
   "cell_type": "code",
   "execution_count": 2,
   "metadata": {},
   "outputs": [
    {
     "name": "stdout",
     "output_type": "stream",
     "text": [
      "Collecting pyspark==2.4.5\n",
      "\u001b[?25l  Downloading https://files.pythonhosted.org/packages/9a/5a/271c416c1c2185b6cb0151b29a91fff6fcaed80173c8584ff6d20e46b465/pyspark-2.4.5.tar.gz (217.8MB)\n",
      "\u001b[K     |████████████████████████████████| 217.8MB 165kB/s  eta 0:00:01\n",
      "\u001b[?25hCollecting py4j==0.10.7 (from pyspark==2.4.5)\n",
      "\u001b[?25l  Downloading https://files.pythonhosted.org/packages/e3/53/c737818eb9a7dc32a7cd4f1396e787bd94200c3997c72c1dbe028587bd76/py4j-0.10.7-py2.py3-none-any.whl (197kB)\n",
      "\u001b[K     |████████████████████████████████| 204kB 34.2MB/s eta 0:00:01\n",
      "\u001b[?25hBuilding wheels for collected packages: pyspark\n",
      "  Building wheel for pyspark (setup.py) ... \u001b[?25ldone\n",
      "\u001b[?25h  Stored in directory: /home/dsxuser/.cache/pip/wheels/bf/db/04/61d66a5939364e756eb1c1be4ec5bdce6e04047fc7929a3c3c\n",
      "Successfully built pyspark\n",
      "Installing collected packages: py4j, pyspark\n",
      "Successfully installed py4j-0.10.7 pyspark-2.4.5\n"
     ]
    }
   ],
   "source": [
    "!pip install pyspark==2.4.5"
   ]
  },
  {
   "cell_type": "code",
   "execution_count": 3,
   "metadata": {},
   "outputs": [],
   "source": [
    "try:\n",
    "    from pyspark import SparkContext, SparkConf\n",
    "    from pyspark.sql import SparkSession\n",
    "except ImportError as e:\n",
    "    printmd('<<<<<!!!!! Please restart your kernel after installing Apache Spark !!!!!>>>>>')"
   ]
  },
  {
   "cell_type": "code",
   "execution_count": 4,
   "metadata": {},
   "outputs": [],
   "source": [
    "sc = SparkContext.getOrCreate(SparkConf().setMaster(\"local[*]\"))\n",
    "\n",
    "spark = SparkSession \\\n",
    "    .builder \\\n",
    "    .getOrCreate()"
   ]
  },
  {
   "cell_type": "code",
   "execution_count": 26,
   "metadata": {},
   "outputs": [
    {
     "name": "stdout",
     "output_type": "stream",
     "text": [
      "--2020-05-02 10:24:30--  https://github.com/IBM/coursera/raw/master/hmp.parquet\n",
      "Resolving github.com (github.com)... 140.82.118.3\n",
      "Connecting to github.com (github.com)|140.82.118.3|:443... connected.\n",
      "HTTP request sent, awaiting response... 301 Moved Permanently\n",
      "Location: https://github.com/IBM/skillsnetwork/raw/master/hmp.parquet [following]\n",
      "--2020-05-02 10:24:30--  https://github.com/IBM/skillsnetwork/raw/master/hmp.parquet\n",
      "Reusing existing connection to github.com:443.\n",
      "HTTP request sent, awaiting response... 302 Found\n",
      "Location: https://raw.githubusercontent.com/IBM/skillsnetwork/master/hmp.parquet [following]\n",
      "--2020-05-02 10:24:30--  https://raw.githubusercontent.com/IBM/skillsnetwork/master/hmp.parquet\n",
      "Resolving raw.githubusercontent.com (raw.githubusercontent.com)... 151.101.16.133\n",
      "Connecting to raw.githubusercontent.com (raw.githubusercontent.com)|151.101.16.133|:443... connected.\n",
      "HTTP request sent, awaiting response... 200 OK\n",
      "Length: 932997 (911K) [application/octet-stream]\n",
      "Saving to: ‘hmp.parquet’\n",
      "\n",
      "100%[======================================>] 932,997     --.-K/s   in 0.05s   \n",
      "\n",
      "2020-05-02 10:24:30 (18.9 MB/s) - ‘hmp.parquet’ saved [932997/932997]\n",
      "\n"
     ]
    }
   ],
   "source": [
    "# delete files from previous runs\n",
    "!rm -f hmp.parquet*\n",
    "\n",
    "# download the file containing the data in PARQUET format\n",
    "!wget https://github.com/IBM/coursera/raw/master/hmp.parquet\n",
    "    \n",
    "# create a dataframe out of it\n",
    "df = spark.read.parquet('hmp.parquet')\n",
    "\n",
    "# register a corresponding query table\n",
    "df.createOrReplaceTempView('df')"
   ]
  },
  {
   "cell_type": "markdown",
   "metadata": {},
   "source": [
    "## This is just an example demonstrating how to use spark API for Classification\n",
    "## This is subquential data, so the prediction cannot be made on one row and have to consider the entire scenario"
   ]
  },
  {
   "cell_type": "markdown",
   "metadata": {},
   "source": [
    "Since this is supervised learning, let’s split our data into train (80%) and test (20%) set."
   ]
  },
  {
   "cell_type": "code",
   "execution_count": 31,
   "metadata": {},
   "outputs": [],
   "source": [
    "splits = df.randomSplit([0.8, 0.2])\n",
    "df_train = splits[0]\n",
    "df_test = splits[1]\n",
    "\n",
    "df_train.createOrReplaceTempView('df_train')\n",
    "df_test.createOrReplaceTempView('df_test')"
   ]
  },
  {
   "cell_type": "markdown",
   "metadata": {},
   "source": [
    "Again, we can re-use our feature engineering pipeline"
   ]
  },
  {
   "cell_type": "code",
   "execution_count": 37,
   "metadata": {},
   "outputs": [],
   "source": [
    "from pyspark.ml.feature import StringIndexer, OneHotEncoder\n",
    "from pyspark.ml.linalg import Vectors\n",
    "from pyspark.ml.feature import VectorAssembler\n",
    "from pyspark.ml.feature import MinMaxScaler\n",
    "\n",
    "\n",
    "indexer = StringIndexer(inputCol=\"class\", outputCol=\"label\")\n",
    "\n",
    "vectorAssembler = VectorAssembler(inputCols=[\"x\",\"y\",\"z\"],\n",
    "                                  outputCol=\"features\")\n",
    "\n",
    "\n",
    "minmaxscaler = MinMaxScaler(inputCol=\"features\", outputCol=\"scaledFeatures\")"
   ]
  },
  {
   "cell_type": "markdown",
   "metadata": {},
   "source": [
    "Now we use LogisticRegression, a simple and basic linear classifier to obtain a classification performance baseline."
   ]
  },
  {
   "cell_type": "code",
   "execution_count": 40,
   "metadata": {},
   "outputs": [],
   "source": [
    "from pyspark.ml.classification import LogisticRegression\n",
    "from pyspark.ml import Pipeline\n",
    "\n",
    "lr = LogisticRegression(labelCol=\"label\", featuresCol=\"scaledFeatures\", maxIter=10, regParam=0.3, elasticNetParam=0.8)\n",
    "pipeline = Pipeline(stages=[indexer, vectorAssembler, minmaxscaler,lr])\n",
    "model = pipeline.fit(df_train)\n",
    "prediction = model.transform(df_test)"
   ]
  },
  {
   "cell_type": "markdown",
   "metadata": {},
   "source": [
    "If we look at the schema of the prediction dataframe we see that there is an additional column called prediction which contains the best guess for the class our model predicts."
   ]
  },
  {
   "cell_type": "code",
   "execution_count": 9,
   "metadata": {},
   "outputs": [
    {
     "name": "stdout",
     "output_type": "stream",
     "text": [
      "root\n",
      " |-- x: integer (nullable = true)\n",
      " |-- y: integer (nullable = true)\n",
      " |-- z: integer (nullable = true)\n",
      " |-- source: string (nullable = true)\n",
      " |-- class: string (nullable = true)\n",
      " |-- label: double (nullable = false)\n",
      " |-- features: vector (nullable = true)\n",
      " |-- features_norm: vector (nullable = true)\n",
      " |-- rawPrediction: vector (nullable = true)\n",
      " |-- probability: vector (nullable = true)\n",
      " |-- prediction: double (nullable = false)\n",
      "\n"
     ]
    }
   ],
   "source": [
    "prediction.printSchema()"
   ]
  },
  {
   "cell_type": "markdown",
   "metadata": {},
   "source": [
    "Let’s evaluate performance by using a build-in functionality of Apache SparkML."
   ]
  },
  {
   "cell_type": "code",
   "execution_count": 41,
   "metadata": {},
   "outputs": [
    {
     "data": {
      "text/plain": [
       "0.20599499107152885"
      ]
     },
     "execution_count": 41,
     "metadata": {},
     "output_type": "execute_result"
    }
   ],
   "source": [
    "from pyspark.ml.evaluation import MulticlassClassificationEvaluator\n",
    "MulticlassClassificationEvaluator().setMetricName(\"accuracy\").evaluate(prediction) "
   ]
  },
  {
   "cell_type": "markdown",
   "metadata": {},
   "source": [
    "So we get 20% right. This is not bad for a baseline. Note that random guessing would give us only 7%. Of course we need to improve. You might have notices that we’re dealing with a time series here. And we’re not making use of that fact right now as we look at each training example only individually. But this is ok for now. More advanced courses like “Advanced Machine Learning and Signal Processing” (https://www.coursera.org/learn/advanced-machine-learning-signal-processing/) will teach you how to improve accuracy to the nearly 100% by using algorithms like Fourier transformation or wavelet transformation. But let’s skip this for now. In the following cell, please use the RandomForest classifier (you might need to play with the “numTrees” parameter) in the code cell below. You should get an accuracy of around 44%. More on RandomForest can be found here:\n",
    "\n",
    "https://spark.apache.org/docs/latest/ml-classification-regression.html#random-forest-classifier\n"
   ]
  },
  {
   "cell_type": "code",
   "execution_count": 32,
   "metadata": {},
   "outputs": [
    {
     "name": "stdout",
     "output_type": "stream",
     "text": [
      "+--------------+--------+\n",
      "|         class|count(1)|\n",
      "+--------------+--------+\n",
      "| Use_telephone|    3001|\n",
      "| Standup_chair|    5149|\n",
      "|      Eat_meat|    6290|\n",
      "|     Getup_bed|    9124|\n",
      "|   Drink_glass|    8477|\n",
      "|    Pour_water|    8392|\n",
      "|     Comb_hair|    4664|\n",
      "|          Walk|   18342|\n",
      "|  Climb_stairs|    8011|\n",
      "| Sitdown_chair|    4910|\n",
      "|   Liedown_bed|    2293|\n",
      "|Descend_stairs|    3036|\n",
      "|   Brush_teeth|    6038|\n",
      "|      Eat_soup|    1314|\n",
      "+--------------+--------+\n",
      "\n"
     ]
    }
   ],
   "source": [
    "spark.sql('select class,count(*) from df_test group by class').show()"
   ]
  },
  {
   "cell_type": "code",
   "execution_count": 36,
   "metadata": {},
   "outputs": [
    {
     "name": "stdout",
     "output_type": "stream",
     "text": [
      "+---+---+---+--------------------+--------------+-----+---------------+--------------------+--------------------+--------------------+----------+\n",
      "|  x|  y|  z|              source|         class|label|       features|      scaledFeatures|       rawPrediction|         probability|prediction|\n",
      "+---+---+---+--------------------+--------------+-----+---------------+--------------------+--------------------+--------------------+----------+\n",
      "|  0| 12| 39|Accelerometer-201...| Sitdown_chair|  8.0|[0.0,12.0,39.0]|[0.0,0.1904761904...|[2.80737689904376...|[0.28073768990437...|       1.0|\n",
      "|  0| 16| 31|Accelerometer-201...|     Getup_bed|  1.0|[0.0,16.0,31.0]|[0.0,0.2539682539...|[2.35006707679124...|[0.23500670767912...|       1.0|\n",
      "|  0| 25| 30|Accelerometer-201...|   Brush_teeth|  6.0|[0.0,25.0,30.0]|[0.0,0.3968253968...|[2.35006707679124...|[0.23500670767912...|       1.0|\n",
      "|  0| 25| 40|Accelerometer-201...|   Brush_teeth|  6.0|[0.0,25.0,40.0]|[0.0,0.3968253968...|[2.78545303175419...|[0.27854530317541...|       1.0|\n",
      "|  0| 26| 42|Accelerometer-201...|   Brush_teeth|  6.0|[0.0,26.0,42.0]|[0.0,0.4126984126...|[1.96422922467188...|[0.19642292246718...|       1.0|\n",
      "|  0| 27| 39|Accelerometer-201...|   Brush_teeth|  6.0|[0.0,27.0,39.0]|[0.0,0.4285714285...|[2.80737689904376...|[0.28073768990437...|       1.0|\n",
      "|  0| 29| 32|Accelerometer-201...|Descend_stairs| 10.0|[0.0,29.0,32.0]|[0.0,0.4603174603...|[2.61913910670825...|[0.26191391067082...|       0.0|\n",
      "|  0| 29| 34|Accelerometer-201...|          Walk|  0.0|[0.0,29.0,34.0]|[0.0,0.4603174603...|[3.0448165168101,...|[0.30448165168101...|       0.0|\n",
      "|  0| 29| 38|Accelerometer-201...|   Brush_teeth|  6.0|[0.0,29.0,38.0]|[0.0,0.4603174603...|[2.80737689904376...|[0.28073768990437...|       1.0|\n",
      "|  0| 29| 39|Accelerometer-201...|   Brush_teeth|  6.0|[0.0,29.0,39.0]|[0.0,0.4603174603...|[2.80737689904376...|[0.28073768990437...|       1.0|\n",
      "|  0| 30| 35|Accelerometer-201...|   Brush_teeth|  6.0|[0.0,30.0,35.0]|[0.0,0.4761904761...|[3.0448165168101,...|[0.30448165168101...|       0.0|\n",
      "|  0| 30| 36|Accelerometer-201...|  Climb_stairs|  4.0|[0.0,30.0,36.0]|[0.0,0.4761904761...|[3.0448165168101,...|[0.30448165168101...|       0.0|\n",
      "|  0| 31| 28|Accelerometer-201...|     Getup_bed|  1.0|[0.0,31.0,28.0]|[0.0,0.4920634920...|[2.45280434024685...|[0.24528043402468...|       0.0|\n",
      "|  0| 31| 28|Accelerometer-201...|  Climb_stairs|  4.0|[0.0,31.0,28.0]|[0.0,0.4920634920...|[2.45280434024685...|[0.24528043402468...|       0.0|\n",
      "|  0| 31| 30|Accelerometer-201...| Standup_chair|  7.0|[0.0,31.0,30.0]|[0.0,0.4920634920...|[2.45280434024685...|[0.24528043402468...|       0.0|\n",
      "|  0| 31| 38|Accelerometer-201...|   Brush_teeth|  6.0|[0.0,31.0,38.0]|[0.0,0.4920634920...|[2.80737689904376...|[0.28073768990437...|       1.0|\n",
      "|  0| 32| 35|Accelerometer-201...|  Climb_stairs|  4.0|[0.0,32.0,35.0]|[0.0,0.5079365079...|[5.29491146812999...|[0.52949114681299...|       0.0|\n",
      "|  0| 32| 41|Accelerometer-201...|   Brush_teeth|  6.0|[0.0,32.0,41.0]|[0.0,0.5079365079...|[2.28436832372873...|[0.22843683237287...|       1.0|\n",
      "|  0| 32| 44|Accelerometer-201...|   Brush_teeth|  6.0|[0.0,32.0,44.0]|[0.0,0.5079365079...|[1.47381244754689...|[0.14738124475468...|       1.0|\n",
      "|  0| 33| 31|Accelerometer-201...|Descend_stairs| 10.0|[0.0,33.0,31.0]|[0.0,0.5238095238...|[4.86923405802814...|[0.48692340580281...|       0.0|\n",
      "+---+---+---+--------------------+--------------+-----+---------------+--------------------+--------------------+--------------------+----------+\n",
      "only showing top 20 rows\n",
      "\n",
      "0.4408306285868308\n"
     ]
    }
   ],
   "source": [
    "from pyspark.ml.classification import RandomForestClassifier\n",
    "from pyspark.ml import Pipeline\n",
    "from pyspark.ml.feature import MinMaxScaler\n",
    "\n",
    "minmaxscaler = MinMaxScaler(inputCol=\"features\", outputCol=\"scaledFeatures\")\n",
    "rf = RandomForestClassifier(labelCol=\"label\", featuresCol=\"scaledFeatures\", numTrees=10)\n",
    "\n",
    "pipeline_rf = Pipeline(stages=[indexer, vectorAssembler, minmaxscaler,rf])\n",
    "model_rf = pipeline_rf.fit(df_train)\n",
    "prediction_rf = model_rf.transform(df_test)\n",
    "\n",
    "prediction_rf.show()\n",
    "print(MulticlassClassificationEvaluator().setMetricName(\"accuracy\").evaluate(prediction_rf))\n",
    "\n"
   ]
  }
 ],
 "metadata": {
  "kernelspec": {
   "display_name": "Python 3.6",
   "language": "python",
   "name": "python3"
  },
  "language_info": {
   "codemirror_mode": {
    "name": "ipython",
    "version": 3
   },
   "file_extension": ".py",
   "mimetype": "text/x-python",
   "name": "python",
   "nbconvert_exporter": "python",
   "pygments_lexer": "ipython3",
   "version": "3.6.9"
  }
 },
 "nbformat": 4,
 "nbformat_minor": 1
}
